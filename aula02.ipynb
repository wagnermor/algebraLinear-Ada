{
  "nbformat": 4,
  "nbformat_minor": 0,
  "metadata": {
    "colab": {
      "name": "aula02.ipynb",
      "provenance": [],
      "authorship_tag": "ABX9TyPvY4Z6pL27a2UPtwd76rwT",
      "include_colab_link": true
    },
    "kernelspec": {
      "name": "python3",
      "display_name": "Python 3"
    },
    "language_info": {
      "name": "python"
    }
  },
  "cells": [
    {
      "cell_type": "markdown",
      "metadata": {
        "id": "view-in-github",
        "colab_type": "text"
      },
      "source": [
        "<a href=\"https://colab.research.google.com/github/wagnermor/algebraLinear-Ada/blob/main/aula02.ipynb\" target=\"_parent\"><img src=\"https://colab.research.google.com/assets/colab-badge.svg\" alt=\"Open In Colab\"/></a>"
      ]
    },
    {
      "cell_type": "code",
      "execution_count": null,
      "metadata": {
        "id": "bSSZ4jlytvj3"
      },
      "outputs": [],
      "source": [
        "import numpy as np"
      ]
    },
    {
      "cell_type": "markdown",
      "source": [
        ""
      ],
      "metadata": {
        "id": "hB8Fp3BWuPKb"
      }
    },
    {
      "cell_type": "code",
      "source": [
        "a = np.array([[0,1],[3,0]])"
      ],
      "metadata": {
        "id": "2jauS4AJuQHh"
      },
      "execution_count": null,
      "outputs": []
    },
    {
      "cell_type": "code",
      "source": [
        "print(a)"
      ],
      "metadata": {
        "colab": {
          "base_uri": "https://localhost:8080/"
        },
        "id": "iApi3SaQuhEH",
        "outputId": "714f8cd6-92f6-4683-ff69-54ce06385e52"
      },
      "execution_count": null,
      "outputs": [
        {
          "output_type": "stream",
          "name": "stdout",
          "text": [
            "[[0 1]\n",
            " [3 0]]\n"
          ]
        }
      ]
    },
    {
      "cell_type": "code",
      "source": [
        "# Matriz Transpostas: Matriz que as linhas viram colunas, e as colunas viram linhas\n",
        "# Operador T\n",
        "t = a.transpose()\n",
        "\n",
        "r = a.T\n",
        "\n",
        "print(t)\n",
        "print()\n",
        "print(r)"
      ],
      "metadata": {
        "colab": {
          "base_uri": "https://localhost:8080/"
        },
        "id": "9MmRCsfBurV3",
        "outputId": "2d6d75bc-d7d8-4141-92f0-30e52e5717ba"
      },
      "execution_count": null,
      "outputs": [
        {
          "output_type": "stream",
          "name": "stdout",
          "text": [
            "[[0 3]\n",
            " [1 0]]\n",
            "\n",
            "[[0 3]\n",
            " [1 0]]\n"
          ]
        }
      ]
    },
    {
      "cell_type": "code",
      "source": [
        "# Matriz identidade ---> Só faz sentido para Matrizes Quadradas (o n de linhas = n de colunas)\n",
        "# A diagonal principal é 1 para todos os elementos, e o restante é igual a zero\n",
        "\n",
        "[\n",
        "  [1,0,0],\n",
        "  [0,1,0],\n",
        "  [0,0,1]\n",
        "]"
      ],
      "metadata": {
        "id": "v36yORvRwL6v"
      },
      "execution_count": null,
      "outputs": []
    },
    {
      "cell_type": "code",
      "source": [
        "id = np.eye(13)\n",
        "print(id)"
      ],
      "metadata": {
        "colab": {
          "base_uri": "https://localhost:8080/"
        },
        "id": "jrGucn7W3lOV",
        "outputId": "9d72ae04-4337-460d-9b35-00df8d794c46"
      },
      "execution_count": null,
      "outputs": [
        {
          "output_type": "stream",
          "name": "stdout",
          "text": [
            "[[1. 0. 0. 0. 0. 0. 0. 0. 0. 0. 0. 0. 0.]\n",
            " [0. 1. 0. 0. 0. 0. 0. 0. 0. 0. 0. 0. 0.]\n",
            " [0. 0. 1. 0. 0. 0. 0. 0. 0. 0. 0. 0. 0.]\n",
            " [0. 0. 0. 1. 0. 0. 0. 0. 0. 0. 0. 0. 0.]\n",
            " [0. 0. 0. 0. 1. 0. 0. 0. 0. 0. 0. 0. 0.]\n",
            " [0. 0. 0. 0. 0. 1. 0. 0. 0. 0. 0. 0. 0.]\n",
            " [0. 0. 0. 0. 0. 0. 1. 0. 0. 0. 0. 0. 0.]\n",
            " [0. 0. 0. 0. 0. 0. 0. 1. 0. 0. 0. 0. 0.]\n",
            " [0. 0. 0. 0. 0. 0. 0. 0. 1. 0. 0. 0. 0.]\n",
            " [0. 0. 0. 0. 0. 0. 0. 0. 0. 1. 0. 0. 0.]\n",
            " [0. 0. 0. 0. 0. 0. 0. 0. 0. 0. 1. 0. 0.]\n",
            " [0. 0. 0. 0. 0. 0. 0. 0. 0. 0. 0. 1. 0.]\n",
            " [0. 0. 0. 0. 0. 0. 0. 0. 0. 0. 0. 0. 1.]]\n"
          ]
        }
      ]
    },
    {
      "cell_type": "code",
      "source": [
        "# Matriz inversa"
      ],
      "metadata": {
        "id": "GQzXhPUY37tL"
      },
      "execution_count": null,
      "outputs": []
    },
    {
      "cell_type": "markdown",
      "source": [
        "$$A . A^{-1} = I$$"
      ],
      "metadata": {
        "id": "D41tK0-a4KNM"
      }
    },
    {
      "cell_type": "code",
      "source": [
        "b = np.array([[0,1],[3,0]])\n",
        "#i = np.eye(2)\n",
        "\n",
        "# Calculando a invesa\n",
        "b_inv = np.linalg.inv(b)\n",
        "\n",
        "print(b)\n",
        "print()\n",
        "print(b_inv)"
      ],
      "metadata": {
        "colab": {
          "base_uri": "https://localhost:8080/"
        },
        "id": "-nJakPHI5Evh",
        "outputId": "68634202-8ce6-4027-f583-ad112dca8dde"
      },
      "execution_count": null,
      "outputs": [
        {
          "output_type": "stream",
          "name": "stdout",
          "text": [
            "[[0 1]\n",
            " [3 0]]\n",
            "\n",
            "[[0.         0.33333333]\n",
            " [1.         0.        ]]\n"
          ]
        }
      ]
    }
  ]
}