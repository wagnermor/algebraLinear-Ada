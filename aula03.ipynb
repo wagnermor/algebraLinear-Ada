{
  "nbformat": 4,
  "nbformat_minor": 0,
  "metadata": {
    "colab": {
      "name": "aula03.ipynb",
      "provenance": [],
      "authorship_tag": "ABX9TyO/rWfyP/hFYc8o12cxo8RC",
      "include_colab_link": true
    },
    "kernelspec": {
      "name": "python3",
      "display_name": "Python 3"
    },
    "language_info": {
      "name": "python"
    }
  },
  "cells": [
    {
      "cell_type": "markdown",
      "metadata": {
        "id": "view-in-github",
        "colab_type": "text"
      },
      "source": [
        "<a href=\"https://colab.research.google.com/github/wagnermor/algebraLinear-Ada/blob/main/aula03.ipynb\" target=\"_parent\"><img src=\"https://colab.research.google.com/assets/colab-badge.svg\" alt=\"Open In Colab\"/></a>"
      ]
    },
    {
      "cell_type": "code",
      "execution_count": 1,
      "metadata": {
        "id": "Xim00Oi5IHDY"
      },
      "outputs": [],
      "source": [
        "import numpy as np"
      ]
    },
    {
      "cell_type": "code",
      "source": [
        "a = np.array([\n",
        "              [1,5,3],\n",
        "              [3,2,1],\n",
        "              [1,1,1]\n",
        "])\n",
        "\n",
        "y = np.array([\n",
        "              [1],\n",
        "              [0],\n",
        "              [1]\n",
        "])\n",
        "\n",
        "print(a)\n",
        "print()\n",
        "print(y)"
      ],
      "metadata": {
        "colab": {
          "base_uri": "https://localhost:8080/"
        },
        "id": "RH7FtUubJdOY",
        "outputId": "f0f04f1e-e425-416c-d362-1e0c357147bd"
      },
      "execution_count": 2,
      "outputs": [
        {
          "output_type": "stream",
          "name": "stdout",
          "text": [
            "[[1 5 3]\n",
            " [3 2 1]\n",
            " [1 1 1]]\n",
            "\n",
            "[[1]\n",
            " [0]\n",
            " [1]]\n"
          ]
        }
      ]
    },
    {
      "cell_type": "code",
      "source": [
        "# Achando a matriz inversa de a\n",
        "\n",
        "a_inv = np.linalg.inv(a)\n",
        "\n",
        "print(a_inv)"
      ],
      "metadata": {
        "colab": {
          "base_uri": "https://localhost:8080/"
        },
        "id": "h7hS_5q-KCez",
        "outputId": "517b4e19-9986-42f9-f663-ebea53057067"
      },
      "execution_count": 3,
      "outputs": [
        {
          "output_type": "stream",
          "name": "stdout",
          "text": [
            "[[-0.16666667  0.33333333  0.16666667]\n",
            " [ 0.33333333  0.33333333 -1.33333333]\n",
            " [-0.16666667 -0.66666667  2.16666667]]\n"
          ]
        }
      ]
    },
    {
      "cell_type": "code",
      "source": [
        "# Calculando o resultado\n",
        "\n",
        "x = np.dot(a_inv, y)\n",
        "\n",
        "print(x)"
      ],
      "metadata": {
        "colab": {
          "base_uri": "https://localhost:8080/"
        },
        "id": "X98gErw2KQAk",
        "outputId": "326ccec3-3211-409b-fe47-cd4609459764"
      },
      "execution_count": 4,
      "outputs": [
        {
          "output_type": "stream",
          "name": "stdout",
          "text": [
            "[[ 0.]\n",
            " [-1.]\n",
            " [ 2.]]\n"
          ]
        }
      ]
    },
    {
      "cell_type": "code",
      "source": [
        "# Resolvendo de forma alternativa\n",
        "\n",
        "x = np.linalg.solve(a, y)\n",
        "\n",
        "print(x)"
      ],
      "metadata": {
        "colab": {
          "base_uri": "https://localhost:8080/"
        },
        "id": "AUhh7SjHKjJp",
        "outputId": "a73a59a4-3970-469c-e567-2471b38dc7e3"
      },
      "execution_count": 5,
      "outputs": [
        {
          "output_type": "stream",
          "name": "stdout",
          "text": [
            "[[ 0.]\n",
            " [-1.]\n",
            " [ 2.]]\n"
          ]
        }
      ]
    },
    {
      "cell_type": "code",
      "source": [
        "# Determinantes\n",
        "\n",
        "m = np.array([\n",
        "              [1,0,1],\n",
        "              [2,2,2],\n",
        "              [-1,4,-2]\n",
        "])\n",
        "print(m)"
      ],
      "metadata": {
        "colab": {
          "base_uri": "https://localhost:8080/"
        },
        "id": "v30fMzWgLQRG",
        "outputId": "cbf15624-b039-4d0c-823e-53ac0d7669a4"
      },
      "execution_count": 6,
      "outputs": [
        {
          "output_type": "stream",
          "name": "stdout",
          "text": [
            "[[ 1  0  1]\n",
            " [ 2  2  2]\n",
            " [-1  4 -2]]\n"
          ]
        }
      ]
    },
    {
      "cell_type": "code",
      "source": [
        "det = np.linalg.det(m)\n",
        "\n",
        "print(det)"
      ],
      "metadata": {
        "colab": {
          "base_uri": "https://localhost:8080/"
        },
        "id": "Ze3Mmf5wMOKy",
        "outputId": "189ffcca-3070-4a73-bf7b-5da84b3f0bb1"
      },
      "execution_count": 7,
      "outputs": [
        {
          "output_type": "stream",
          "name": "stdout",
          "text": [
            "-1.9999999999999993\n"
          ]
        }
      ]
    },
    {
      "cell_type": "code",
      "source": [
        "import math as m\n",
        "print(m.ceil(det))\n",
        "print()\n",
        "print(round(det))"
      ],
      "metadata": {
        "colab": {
          "base_uri": "https://localhost:8080/"
        },
        "id": "TQE2vxw9NTer",
        "outputId": "8b9ff68a-816d-4db4-c455-237b18799fa3"
      },
      "execution_count": 12,
      "outputs": [
        {
          "output_type": "stream",
          "name": "stdout",
          "text": [
            "-1\n",
            "\n",
            "-2\n"
          ]
        }
      ]
    }
  ]
}